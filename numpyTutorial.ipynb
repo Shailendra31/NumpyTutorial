{
 "cells": [
  {
   "cell_type": "code",
   "execution_count": 1,
   "metadata": {},
   "outputs": [],
   "source": [
    "#importing numpy library \n",
    "import numpy as np"
   ]
  },
  {
   "cell_type": "markdown",
   "metadata": {},
   "source": [
    "Creating Numpy array"
   ]
  },
  {
   "cell_type": "code",
   "execution_count": 2,
   "metadata": {},
   "outputs": [
    {
     "name": "stdout",
     "output_type": "stream",
     "text": [
      "[1 2 3 8]\n"
     ]
    }
   ],
   "source": [
    "# create numpy array using list\n",
    "list = [1, 2, 3, 8]\n",
    "array1 = np.array(list)\n",
    "\n",
    "print(array1)\n"
   ]
  },
  {
   "cell_type": "code",
   "execution_count": 3,
   "metadata": {},
   "outputs": [
    {
     "name": "stdout",
     "output_type": "stream",
     "text": [
      "[ 1  4  2  9 10]\n"
     ]
    }
   ],
   "source": [
    "# create numpy array using a list\n",
    "array = np.array([1, 4, 2, 9, 10])\n",
    "print(array)\n"
   ]
  },
  {
   "cell_type": "code",
   "execution_count": 4,
   "metadata": {},
   "outputs": [
    {
     "name": "stdout",
     "output_type": "stream",
     "text": [
      "[0. 0. 0. 0. 0. 0. 0. 0. 0. 0.]\n"
     ]
    }
   ],
   "source": [
    "# create an array with 10 elements filled with zeros\n",
    "array1 = np.zeros(10)\n",
    "print(array1)\n"
   ]
  },
  {
   "cell_type": "code",
   "execution_count": 5,
   "metadata": {},
   "outputs": [
    {
     "name": "stdout",
     "output_type": "stream",
     "text": [
      "[1. 1. 1. 1. 1. 1. 1. 1. 1. 1.]\n"
     ]
    }
   ],
   "source": [
    "# create an array with 10 elements filled with ones\n",
    "array1 = np.ones(10)\n",
    "print(array1)"
   ]
  },
  {
   "cell_type": "code",
   "execution_count": 6,
   "metadata": {},
   "outputs": [
    {
     "name": "stdout",
     "output_type": "stream",
     "text": [
      "array1: [0 1 2 3 4 5 6 7 8 9]\n",
      "array2: [1 3 5 7 9]\n"
     ]
    }
   ],
   "source": [
    "# create an array with values from 0 to 9\n",
    "array1 = np.arange(10)\n",
    "\n",
    "print(\"array1:\", array1)\n",
    "\n",
    "# create an array with values from 1 to 10 with a step of 2\n",
    "array2 = np.arange(1, 10, 2)\n",
    "\n",
    "print(\"array2:\",array2)"
   ]
  },
  {
   "cell_type": "code",
   "execution_count": 7,
   "metadata": {},
   "outputs": [
    {
     "name": "stdout",
     "output_type": "stream",
     "text": [
      "[0.15876353 0.19687994 0.77239508 0.72319746 0.30876164 0.41466131\n",
      " 0.96611588 0.56571765 0.31436168 0.47974574]\n"
     ]
    }
   ],
   "source": [
    "# generate an array of 10 random numbers\n",
    "array = np.random.rand(10)\n",
    "print(array)"
   ]
  },
  {
   "cell_type": "code",
   "execution_count": 9,
   "metadata": {},
   "outputs": [
    {
     "name": "stdout",
     "output_type": "stream",
     "text": [
      "[[ 1  2  3]\n",
      " [ 5  6  7]\n",
      " [ 9 10 11]]\n"
     ]
    }
   ],
   "source": [
    "# create a 2D array with 3 rows and 3 columns\n",
    "array = np.array([[1, 2, 3],\n",
    "                  [5, 6, 7],\n",
    "                  [9, 10, 11]])\n",
    "\n",
    "print(array)"
   ]
  },
  {
   "cell_type": "markdown",
   "metadata": {},
   "source": [
    "Data type"
   ]
  },
  {
   "cell_type": "code",
   "execution_count": 10,
   "metadata": {},
   "outputs": [
    {
     "name": "stdout",
     "output_type": "stream",
     "text": [
      "array1 dtype: int32\n",
      "array2 dtype: float64\n",
      "array3 dtype: complex128\n"
     ]
    }
   ],
   "source": [
    "#1 int8, int16, int32, int64 - signed integer types with different bit sizes\n",
    "#2 uint8, uint16, uint32, uint64 - unsigned integer types with different bit sizes\n",
    "#3 float32, float64 - floating-point types with different precision levels\n",
    "#4 complex64, complex128 - complex number types with different precision levels\n",
    "\n",
    "# create an array of  integers\n",
    "array1 = np.array([1 , 2 , 3 , 4])\n",
    "\n",
    "# create an array of floating-point numbers\n",
    "array2 = np.array([0.1, 0.2, 0.3 , 0.4])\n",
    "\n",
    "# create an array of complex numbers\n",
    "array3 = np.array([1+4j, 2+5j, 3+6j])\n",
    "\n",
    "# check the data type of int_array\n",
    "print(\"array1 dtype:\" ,array1.dtype)  # prints int64\n",
    "\n",
    "# check the data type of float_array\n",
    "print(\"array2 dtype:\" ,array2.dtype)  # prints float64\n",
    "\n",
    "# check the data type of complex_array\n",
    "print(\"array3 dtype:\" , array3.dtype)  # prints complex128"
   ]
  },
  {
   "cell_type": "code",
   "execution_count": 11,
   "metadata": {},
   "outputs": [
    {
     "name": "stdout",
     "output_type": "stream",
     "text": [
      "array1 int8\n",
      "array2 uint16\n",
      "array3 float32\n",
      "array4 complex64\n"
     ]
    }
   ],
   "source": [
    "#Creating NumPy Arrays With a Defined Data Type\n",
    "\n",
    "# create an array of 8-bit integers\n",
    "array1 = np.array([1, 2, 3, 4], dtype='int8')\n",
    "\n",
    "# create an array of unsigned 16-bit integers\n",
    "array2 = np.array([1 ,2, 3, 4], dtype='uint16')\n",
    "\n",
    "# create an array of 32-bit floating-point numbers\n",
    "array3 = np.array([1.2, 1.3, 1.4], dtype='float32')\n",
    "\n",
    "# create an array of 64-bit complex numbers\n",
    "array4 = np.array([1+2j, 2+3j, 3+4j], dtype='complex64')\n",
    "\n",
    "# print the arrays and their data types\n",
    "print(\"array1\", array1.dtype)\n",
    "print(\"array2\", array2.dtype)\n",
    "print(\"array3\", array3.dtype)\n",
    "print(\"array4\", array4.dtype)"
   ]
  },
  {
   "cell_type": "markdown",
   "metadata": {},
   "source": [
    "NumPy Array Attributes\n"
   ]
  },
  {
   "cell_type": "code",
   "execution_count": 13,
   "metadata": {},
   "outputs": [
    {
     "name": "stdout",
     "output_type": "stream",
     "text": [
      "Dimension of array : 2\n",
      "Size of array:  6\n",
      "shape of array:  (2, 3)\n",
      "data type of array: int32\n",
      "Item size of aaray 4\n",
      "Data of array is:  <memory at 0x0000025047393E10>\n"
     ]
    }
   ],
   "source": [
    "# create a 2-D array \n",
    "array = np.array([[2, 4, 6],\n",
    "                  [1, 3, 5]])\n",
    "\n",
    "# check the dimension of array\n",
    "print(\"Dimension of array :\" , array.ndim) \n",
    "# return total number of elements in array\n",
    "print(\"Size of array: \" ,array.size)\n",
    "# return a tuple that gives size of array in each dimension\n",
    "print(\"shape of array: \" ,array.shape)\n",
    "# check the data type of array\n",
    "print(\"data type of array:\" ,array.dtype)\n",
    "# use of itemsize to determine size of each array element of array \n",
    "print(\"Item size of aaray\",array.itemsize)\n",
    "# print memory address of array's  data\n",
    "print(\"Data of array is: \",array.data)"
   ]
  },
  {
   "cell_type": "markdown",
   "metadata": {},
   "source": [
    "Numpy Array Indexing"
   ]
  },
  {
   "cell_type": "code",
   "execution_count": 16,
   "metadata": {},
   "outputs": [
    {
     "name": "stdout",
     "output_type": "stream",
     "text": [
      "1\n",
      "3\n",
      "5\n",
      "5\n",
      "4\n"
     ]
    }
   ],
   "source": [
    "array = np.array([1, 2, 3, 4, 5])\n",
    "\n",
    "# access  elements using index\n",
    "print(array[0])  \n",
    "print(array[2])   \n",
    "print(array[4]) \n",
    "\n",
    "#negative indexing\n",
    "# access the last element\n",
    "print(array[-1])   \n",
    "\n",
    "# access the second-to-last element\n",
    "print(array[-2])   "
   ]
  },
  {
   "cell_type": "code",
   "execution_count": 17,
   "metadata": {},
   "outputs": [
    {
     "name": "stdout",
     "output_type": "stream",
     "text": [
      "After modifying first element: [12  5  6 12 10]\n",
      "After modifying third element: [12  5 14 12 10]\n",
      "modify the last element [12  5 14 12 13]\n",
      "modify the second-to-last element [12  5 14 17 13]\n"
     ]
    }
   ],
   "source": [
    "numbers = np.array([2, 5, 6, 12, 10])\n",
    "\n",
    "# change the value of the first element\n",
    "numbers[0] = 12\n",
    "print(\"After modifying first element:\",numbers)    \n",
    "\n",
    "# change the value of the third element\n",
    "numbers[2] = 14\n",
    "print(\"After modifying third element:\",numbers) \n",
    "\n",
    "# modify the last element\n",
    "numbers[-1] = 13\n",
    "print(\"modify the last element\",numbers)   \n",
    "\n",
    "# modify the second-to-last element\n",
    "numbers[-2] = 17\n",
    "print(\"modify the second-to-last element\",numbers)  "
   ]
  },
  {
   "cell_type": "code",
   "execution_count": 18,
   "metadata": {},
   "outputs": [
    {
     "name": "stdout",
     "output_type": "stream",
     "text": [
      "4th Element at 2nd Row: 8\n",
      "2nd Element at First Row: 2\n"
     ]
    }
   ],
   "source": [
    "#2d array indexing\n",
    "# create a 2D array \n",
    "array = np.array([[1, 2, 3, 4], \n",
    "                       [5, 6, 7, 8],\n",
    "                       [9, 10, 11, 12]])\n",
    "\n",
    "\n",
    "# access the element at the second row and fourth column\n",
    "element1 = array[1, 3] \n",
    "print(\"4th Element at 2nd Row:\",element1)  \n",
    "\n",
    "# access the element at the first row and second column\n",
    "element2 = array[0, 1] \n",
    "print(\"2nd Element at First Row:\",element2)  "
   ]
  },
  {
   "cell_type": "markdown",
   "metadata": {},
   "source": [
    "NumPy Array Slicing"
   ]
  },
  {
   "cell_type": "code",
   "execution_count": 20,
   "metadata": {},
   "outputs": [
    {
     "name": "stdout",
     "output_type": "stream",
     "text": [
      "[3 4 5 6]\n",
      "[1 3 5 7]\n",
      "[4 5 6 7 8 9]\n",
      "[1 2 3 4 5 6 7 8 9]\n",
      "[7 8 9]\n",
      "[5 6 7]\n",
      "[9 7 5 3 1]\n"
     ]
    }
   ],
   "source": [
    "#syntax array[start:stop:step]\n",
    "\n",
    "# create a 1D array \n",
    "array = np.array([1, 2, 3, 4, 5, 6, 7, 8, 9])\n",
    "\n",
    "# slice array from index 2 to index 6 (exclusive)\n",
    "print(array[2:6]) \n",
    "\n",
    "# slice array from index 0 to index 8 (exclusive) with a step size of 2\n",
    "print(array[0:8:2])\n",
    "\n",
    "# slice array from index 3 up to the last element\n",
    "print(array[3:]) \n",
    "\n",
    "# items from start to end\n",
    "print(array[:])  \n",
    "\n",
    "# slice the last 3 elements of the array\n",
    "# using the start parameter\n",
    "print(array[-3:])   \n",
    "\n",
    "# slice elements from 2nd-to-last to 4th-to-last element\n",
    "# using the start and stop parameters\n",
    "print(array[-5:-2])   \n",
    "\n",
    "# slice every other element of the array from the end\n",
    "# using the start, stop, and step parameters\n",
    "print(array[-1::-2])   "
   ]
  },
  {
   "cell_type": "code",
   "execution_count": 21,
   "metadata": {},
   "outputs": [
    {
     "name": "stdout",
     "output_type": "stream",
     "text": [
      "[12 10  8  6  4  2]\n"
     ]
    }
   ],
   "source": [
    "# create a numpy array\n",
    "numbers = np.array([2, 4, 6, 8, 10, 12])\n",
    "\n",
    "# generate reversed array\n",
    "reversed_numbers = numbers[::-1]\n",
    "print(reversed_numbers)\n"
   ]
  },
  {
   "cell_type": "markdown",
   "metadata": {},
   "source": [
    "NumPy Array Reshaping"
   ]
  },
  {
   "cell_type": "code",
   "execution_count": 22,
   "metadata": {},
   "outputs": [
    {
     "name": "stdout",
     "output_type": "stream",
     "text": [
      "[[1 3 5]\n",
      " [7 2 4]\n",
      " [6 8 9]]\n"
     ]
    }
   ],
   "source": [
    "array1 = np.array([1, 3, 5, 7, 2, 4, 6, 8, 9])\n",
    "\n",
    "# reshape a 1D array into a 2D array \n",
    "# with 3 rows and 3 columns\n",
    "result = np.reshape(array1, (3, 3))\n",
    "print(result)"
   ]
  },
  {
   "cell_type": "code",
   "execution_count": 23,
   "metadata": {},
   "outputs": [
    {
     "name": "stdout",
     "output_type": "stream",
     "text": [
      "Flattened 2D array: [ 1  3  5  7  9 11]\n"
     ]
    }
   ],
   "source": [
    "# flatten 2D array to 1D\n",
    "array1 = np.array([[1, 3], [5, 7], [9, 11]])\n",
    "result = np.reshape(array1, -1)\n",
    "print(\"Flattened 2D array:\", result)"
   ]
  },
  {
   "cell_type": "markdown",
   "metadata": {},
   "source": [
    "Arithmetic Array Operations"
   ]
  },
  {
   "cell_type": "code",
   "execution_count": 24,
   "metadata": {},
   "outputs": [
    {
     "name": "stdout",
     "output_type": "stream",
     "text": [
      "Using the + operator: [ 3  7 11 15]\n",
      "Using the add() function: [ 3  7 11 15]\n",
      "Using the - operator: [ 1  5 19 65]\n",
      "Using the subtract() function: [ 1  5 19 65]\n",
      "Using the * operator: [ 2 12 30 56]\n",
      "Using the multiply() function: [ 2 12 30 56]\n",
      "Using the / operator: [0.25 0.4  0.5 ]\n",
      "Using the divide() function: [0.25 0.4  0.5 ]\n",
      "Using the ** operator: [1 4 9]\n",
      "Using the power() function: [1 4 9]\n",
      "Using the % operator: [1 0 6]\n",
      "Using the mod() function: [1 0 6]\n"
     ]
    }
   ],
   "source": [
    "#Addition\n",
    "\n",
    "first_array = np.array([1, 3, 5, 7])\n",
    "second_array = np.array([2, 4, 6, 8])\n",
    "\n",
    "# using the + operator\n",
    "result1 = first_array + second_array\n",
    "print(\"Using the + operator:\",result1) \n",
    "\n",
    "# using the add() function\n",
    "result2 = np.add(first_array, second_array)\n",
    "print(\"Using the add() function:\",result2) \n",
    "\n",
    "#Subtraction\n",
    "\n",
    "first_array = np.array([3, 9, 27, 81])\n",
    "second_array = np.array([2, 4, 8, 16])\n",
    "\n",
    "# using the - operator\n",
    "result1 = first_array - second_array\n",
    "print(\"Using the - operator:\",result1) \n",
    "\n",
    "# using the subtract() function\n",
    "result2 = np.subtract(first_array, second_array)\n",
    "print(\"Using the subtract() function:\",result2) \n",
    "\n",
    "\n",
    "#Multiplication\n",
    "\n",
    "first_array = np.array([1, 3, 5, 7])\n",
    "second_array = np.array([2, 4, 6, 8])\n",
    "\n",
    "# using the * operator\n",
    "result1 = first_array * second_array\n",
    "print(\"Using the * operator:\",result1) \n",
    "\n",
    "# using the multiply() function\n",
    "result2 = np.multiply(first_array, second_array)\n",
    "print(\"Using the multiply() function:\",result2) \n",
    "\n",
    "#Division\n",
    "\n",
    "first_array = np.array([1, 2, 3])\n",
    "second_array = np.array([4, 5, 6])\n",
    "\n",
    "# using the / operator\n",
    "result1 = first_array / second_array\n",
    "print(\"Using the / operator:\",result1) \n",
    "\n",
    "# using the divide() function\n",
    "result2 = np.divide(first_array, second_array)\n",
    "print(\"Using the divide() function:\",result2) \n",
    "\n",
    "#Exponentiation\n",
    "\n",
    "array1 = np.array([1, 2, 3])\n",
    "\n",
    "# using the ** operator\n",
    "result1 = array1 ** 2\n",
    "print(\"Using the ** operator:\",result1) \n",
    "\n",
    "# using the power() function\n",
    "result2 = np.power(array1, 2)\n",
    "print(\"Using the power() function:\",result2) \n",
    "\n",
    "#modulus\n",
    "\n",
    "first_array = np.array([9, 10, 20])\n",
    "second_array = np.array([2, 5, 7])\n",
    "\n",
    "# using the % operator\n",
    "result1 = first_array % second_array\n",
    "print(\"Using the % operator:\",result1) \n",
    "\n",
    "# using the mod() function\n",
    "result2 = np.mod(first_array, second_array)\n",
    "print(\"Using the mod() function:\",result2)"
   ]
  },
  {
   "cell_type": "markdown",
   "metadata": {},
   "source": [
    "NumPy Array Statistical Functions"
   ]
  },
  {
   "cell_type": "code",
   "execution_count": 25,
   "metadata": {},
   "outputs": [
    {
     "name": "stdout",
     "output_type": "stream",
     "text": [
      "Mean: 77.0\n",
      "Median: 78.0\n",
      "Minimum marks: 65\n",
      "Maximum marks: 86\n"
     ]
    }
   ],
   "source": [
    "marks = np.array([76, 78, 80, 65, 86])\n",
    "\n",
    "# compute the mean of marks\n",
    "mean = np.mean(marks)\n",
    "print(\"Mean:\",mean)\n",
    "\n",
    "# compute the median of marks\n",
    "median = np.median(marks)\n",
    "print(\"Median:\",median)\n",
    "\n",
    "# find the minimum and maximum marks\n",
    "min = np.min(marks)\n",
    "print(\"Minimum marks:\", min)\n",
    "\n",
    "max = np.max(marks)\n",
    "print(\"Maximum marks:\", max)"
   ]
  },
  {
   "cell_type": "markdown",
   "metadata": {},
   "source": [
    "NumPy Comparison Operators"
   ]
  },
  {
   "cell_type": "code",
   "execution_count": 26,
   "metadata": {},
   "outputs": [
    {
     "name": "stdout",
     "output_type": "stream",
     "text": [
      "array1 < array2: [ True  True False False]\n",
      "array1 > array2: [False False  True  True]\n",
      "array1 == array2: [False False False False]\n"
     ]
    }
   ],
   "source": [
    "array1 = np.array([1, 2, 3 , 4])\n",
    "array2 = np.array([4 , 3, 2, 1])\n",
    "\n",
    "# less than operator\n",
    "result1 = array1 < array2\n",
    "print(\"array1 < array2:\",result1)   \n",
    "\n",
    "# greater than operator\n",
    "result2 = array1 > array2\n",
    "print(\"array1 > array2:\",result2)\n",
    "  \n",
    "# equal to operator\n",
    "result3 = array1 == array2\n",
    "print(\"array1 == array2:\",result3)    "
   ]
  },
  {
   "cell_type": "markdown",
   "metadata": {},
   "source": [
    "NumPy Comparison Functions"
   ]
  },
  {
   "cell_type": "code",
   "execution_count": 27,
   "metadata": {},
   "outputs": [
    {
     "name": "stdout",
     "output_type": "stream",
     "text": [
      "Using less(): [ True False False]\n",
      "Using less_equal(): [ True  True False]\n",
      "Using greater(): [False False  True]\n",
      "Using greater_equal(): [False  True  True]\n",
      "Using equal(): [False  True False]\n",
      "Using not_equal(): [ True False  True]\n"
     ]
    }
   ],
   "source": [
    "array1 = np.array([9, 12, 21])\n",
    "array2 = np.array([21, 12, 9])\n",
    "\n",
    "# use of less()\n",
    "result = np.less(array1, array2)\n",
    "print(\"Using less():\",result)    \n",
    "\n",
    "# use of less_equal()\n",
    "result = np.less_equal(array1, array2)\n",
    "print(\"Using less_equal():\",result)    \n",
    "\n",
    "# use of greater()\n",
    "result = np.greater(array1, array2)\n",
    "print(\"Using greater():\",result)   \n",
    "\n",
    "# use of greater_equal()\n",
    "result = np.greater_equal(array1, array2)\n",
    "print(\"Using greater_equal():\",result)   \n",
    "\n",
    "# use of equal()\n",
    "result = np.equal(array1, array2)\n",
    "print(\"Using equal():\",result)  \n",
    "\n",
    "# use of not_equal()\n",
    "result = np.not_equal(array1, array2)\n",
    "print(\"Using not_equal():\",result)  "
   ]
  },
  {
   "cell_type": "markdown",
   "metadata": {},
   "source": [
    "NumPy Logical Operations"
   ]
  },
  {
   "cell_type": "code",
   "execution_count": 28,
   "metadata": {},
   "outputs": [
    {
     "name": "stdout",
     "output_type": "stream",
     "text": [
      "[False False  True]\n",
      "[ True False  True]\n",
      "[False  True False]\n"
     ]
    }
   ],
   "source": [
    "x1 = np.array([True, False, True])\n",
    "x2 = np.array([False, False, True])\n",
    "\n",
    "# Logical AND\n",
    "print(np.logical_and(x1, x2))\n",
    "\n",
    "# Logical OR\n",
    "print(np.logical_or(x1, x2))\n",
    "\n",
    "# Logical NOT\n",
    "print(np.logical_not(x1))"
   ]
  },
  {
   "cell_type": "markdown",
   "metadata": {},
   "source": [
    "NumPy String Functions\n"
   ]
  },
  {
   "cell_type": "code",
   "execution_count": 30,
   "metadata": {},
   "outputs": [
    {
     "name": "stdout",
     "output_type": "stream",
     "text": [
      "['Shailendra: 15' 'id: xxxxx']\n"
     ]
    }
   ],
   "source": [
    "#element wise concat\n",
    "array1 = np.array(['Shailendra: ', 'id: '])\n",
    "array2 = np.array(['15', 'xxxxx'])\n",
    "\n",
    "# perform element-wise array string concatenation\n",
    "result = np.char.add(array1, array2)\n",
    "\n",
    "print(result)"
   ]
  },
  {
   "cell_type": "code",
   "execution_count": 31,
   "metadata": {},
   "outputs": [
    {
     "name": "stdout",
     "output_type": "stream",
     "text": [
      "['AAA' 'BBB' 'CCC']\n"
     ]
    }
   ],
   "source": [
    "#multiplication\n",
    "# define array with three string elements\n",
    "array1 = np.array(['A', 'B', 'C']) \n",
    "\n",
    "#  repeat each element in array1 three times \n",
    "result = np.char.multiply(array1, 3)  \n",
    "\n",
    "print(result)  \n"
   ]
  },
  {
   "cell_type": "code",
   "execution_count": 33,
   "metadata": {},
   "outputs": [
    {
     "name": "stdout",
     "output_type": "stream",
     "text": [
      "['Shailendra' 'Rahul' 'Rishi']\n",
      "To Uppercase:  ['SHAILENDRA' 'RAHUL' 'RISHI']\n",
      "To Lowercase:  ['shailendra' 'rahul' 'rishi']\n",
      "['s-h-a-i-l-e-n-d-r-a' 'r-a-h-u-l' 'r-i-s-h-i']\n"
     ]
    }
   ],
   "source": [
    "# capitalize\n",
    "# define an array with three string elements\n",
    "array1 = np.array(['shailendra', 'rahul', 'rishi'])  \n",
    "\n",
    "# capitalize the first letter of each string in array1 \n",
    "result = np.char.capitalize(array1)  \n",
    "\n",
    "print(result) \n",
    "\n",
    "# convert all string elements to uppercase\n",
    "result1 = np.char.upper(array1)\n",
    "\n",
    "# convert all string elements to lowercase\n",
    "result2 = np.char.lower(array1)\n",
    "\n",
    "print(\"To Uppercase: \",result1)\n",
    "print(\"To Lowercase: \",result2)\n",
    "\n",
    "# join the strings in the array using a dash as the delimiter\n",
    "result = np.char.join('-', array1)\n",
    "\n",
    "print(result)\n"
   ]
  },
  {
   "cell_type": "code",
   "execution_count": 34,
   "metadata": {},
   "outputs": [
    {
     "name": "stdout",
     "output_type": "stream",
     "text": [
      "[False  True False]\n"
     ]
    }
   ],
   "source": [
    "#Equal or not\n",
    "\n",
    "# create two arrays of strings\n",
    "array1 = np.array(['Java', 'Python', 'Swift'])\n",
    "array2 = np.array(['C++', 'Python', 'R'])\n",
    "\n",
    "# check if each element of the arrays is equal\n",
    "result = np.char.equal(array1, array2)\n",
    "\n",
    "print(result)\n"
   ]
  },
  {
   "cell_type": "markdown",
   "metadata": {},
   "source": [
    "This document contain all the basic numpy commands \n",
    "That's all from my side"
   ]
  }
 ],
 "metadata": {
  "kernelspec": {
   "display_name": "Python 3",
   "language": "python",
   "name": "python3"
  },
  "language_info": {
   "codemirror_mode": {
    "name": "ipython",
    "version": 3
   },
   "file_extension": ".py",
   "mimetype": "text/x-python",
   "name": "python",
   "nbconvert_exporter": "python",
   "pygments_lexer": "ipython3",
   "version": "3.9.7"
  }
 },
 "nbformat": 4,
 "nbformat_minor": 2
}
